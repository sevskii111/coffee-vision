{
 "cells": [
  {
   "cell_type": "code",
   "execution_count": 1,
   "id": "a5de8929-7db9-46a6-9dea-190b23ffae22",
   "metadata": {},
   "outputs": [],
   "source": [
    "from io import BytesIO\n",
    "import base64\n",
    "from PIL import Image\n",
    "from math import ceil\n",
    "import requests\n",
    "import cv2\n",
    "from multiprocessing import Pool\n",
    "from pathlib import Path\n",
    "import time\n",
    "import torch\n",
    "from tqdm import tqdm\n"
   ]
  },
  {
   "cell_type": "code",
   "execution_count": 16,
   "id": "da285bf7-c0c3-4e7b-908b-04a68b435d32",
   "metadata": {},
   "outputs": [],
   "source": [
    "api = 'http://localhost:3000/api/'\n",
    "secret = 'seva_is'"
   ]
  },
  {
   "cell_type": "code",
   "execution_count": 17,
   "id": "7163cc80-650f-4020-b4c6-533a56f0f8c7",
   "metadata": {},
   "outputs": [
    {
     "name": "stderr",
     "output_type": "stream",
     "text": [
      "Using cache found in /home/sevskii/.cache/torch/hub/ultralytics_yolov5_master\n",
      "YOLOv5 🚀 2021-12-4 torch 1.10.0+cu102 CUDA:0 (NVIDIA GeForce GTX 1070 Ti, 8103MiB)\n",
      "\n",
      "Fusing layers... \n",
      "Model Summary: 378 layers, 35335500 parameters, 0 gradients, 49.2 GFLOPs\n",
      "Adding AutoShape... \n"
     ]
    }
   ],
   "source": [
    "model = torch.hub.load('ultralytics/yolov5', 'custom', path=Path('./best.pt'))\n",
    "cameras = list((Path() / '..' / 'public' / 'dataset').glob('*'))\n",
    "frames = []\n",
    "for camera in cameras:\n",
    "    frames += list(camera.glob('*.jpg'))\n",
    "frames = sorted(frames, key=lambda frame: frame.name)"
   ]
  },
  {
   "cell_type": "code",
   "execution_count": 21,
   "id": "d22c76ef-34a6-4089-86a0-6cead383a6bd",
   "metadata": {},
   "outputs": [
    {
     "name": "stderr",
     "output_type": "stream",
     "text": [
      "100%|██████████| 13110/13110 [10:36<00:00, 20.59it/s]\n"
     ]
    }
   ],
   "source": [
    "camera_usage = {}\n",
    "batch = []\n",
    "raw_batch = []\n",
    "for frame in tqdm(frames):\n",
    "    camera_id = frame.parent.name\n",
    "    if camera_id in camera_usage:\n",
    "        preds = model(batch)\n",
    "        batch_result = []\n",
    "\n",
    "        for j in range(len(preds)):\n",
    "            xywhn = preds.xywhn[j].cpu()\n",
    "            labels = xywhn.T[-1].to(int)\n",
    "            scores = xywhn.T[-2]\n",
    "            boxes = xywhn.T[0:4].T\n",
    "            boxes[:, 0] -= boxes[:, 2] / 2\n",
    "            boxes[:, 1] -= boxes[:, 3] / 2\n",
    "\n",
    "            curr_frame = raw_batch[j]\n",
    "            \n",
    "            timestamp_int = int(time.mktime(time.strptime(curr_frame.name.replace(\"_AM\", \"\").replace(\"_PM\", \"\"), \"%d-%m-%Y_%H-%M-%S.jpg\")))\n",
    "            if \"_PM\" in curr_frame.name:\n",
    "                timestamp_int += 43200 \n",
    "            \n",
    "            batch_result.append({\n",
    "             'camera_id': int(curr_frame.parent.name),\n",
    "             'timestamp': curr_frame.name,\n",
    "             'timestamp_int': timestamp_int,\n",
    "             'labels': labels.tolist(),\n",
    "             'scores': scores.tolist(),\n",
    "             'boxes': boxes.tolist()\n",
    "            })\n",
    "        requests.post(api + 'save_frames', json={'secret': secret, 'payload': batch_result, 'buildHeatmap': True})\n",
    "        #requests.get(api + 'calc_heatmap', {'secret': secret})\n",
    "        camera_usage = {}\n",
    "        batch = []\n",
    "        raw_batch = []\n",
    "    camera_usage[camera_id] = 1\n",
    "    batch.append(frame)\n",
    "    raw_batch.append(frame)\n",
    "    "
   ]
  },
  {
   "cell_type": "code",
   "execution_count": null,
   "id": "ec6a232d",
   "metadata": {},
   "outputs": [],
   "source": []
  }
 ],
 "metadata": {
  "kernelspec": {
   "display_name": "Python 3 (ipykernel)",
   "language": "python",
   "name": "python3"
  },
  "language_info": {
   "codemirror_mode": {
    "name": "ipython",
    "version": 3
   },
   "file_extension": ".py",
   "mimetype": "text/x-python",
   "name": "python",
   "nbconvert_exporter": "python",
   "pygments_lexer": "ipython3",
   "version": "3.8.12"
  }
 },
 "nbformat": 4,
 "nbformat_minor": 5
}
